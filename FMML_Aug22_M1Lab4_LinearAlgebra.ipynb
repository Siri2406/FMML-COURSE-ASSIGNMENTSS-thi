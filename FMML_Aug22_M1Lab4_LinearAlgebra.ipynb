{
  "nbformat": 4,
  "nbformat_minor": 0,
  "metadata": {
    "colab": {
      "provenance": [],
      "collapsed_sections": [],
      "include_colab_link": true
    },
    "kernelspec": {
      "name": "python3",
      "display_name": "Python 3"
    },
    "language_info": {
      "name": "python"
    }
  },
  "cells": [
    {
      "cell_type": "markdown",
      "metadata": {
        "id": "view-in-github",
        "colab_type": "text"
      },
      "source": [
        "<a href=\"https://colab.research.google.com/github/Siri2406/FMML-COURSE-ASSIGNMENTSS-thi/blob/main/FMML_Aug22_M1Lab4_LinearAlgebra.ipynb\" target=\"_parent\"><img src=\"https://colab.research.google.com/assets/colab-badge.svg\" alt=\"Open In Colab\"/></a>"
      ]
    },
    {
      "cell_type": "markdown",
      "metadata": {
        "id": "mU9LZjQxiQT2"
      },
      "source": [
        "# Transforming data using linear algebra\n",
        "\n",
        "FMML Module 1, Lab 4<br>\n",
        "Module Coordinator: Amit Pandey [amit.pandey@research.iiit.ac.in]\n",
        "\n"
      ]
    },
    {
      "cell_type": "code",
      "metadata": {
        "id": "KBe4ZA32UTbv"
      },
      "source": [
        "import numpy as np\n",
        "import matplotlib.pyplot as plt\n",
        "from keras.datasets import mnist"
      ],
      "execution_count": null,
      "outputs": []
    },
    {
      "cell_type": "code",
      "metadata": {
        "id": "7mqG-dafVpya"
      },
      "source": [
        "#@title\n",
        "\n",
        "from IPython.display import Latex as lt\n",
        "#Plotting functions \n",
        "#(You DON'T need to understand how these functions)\n",
        "\n",
        "# function to plot a grid \n",
        "def plotGrid(transform, unit, linestyle = ':', fig=None, ax=None):\n",
        "  lim1 = -100\n",
        "  lim2 = 100\n",
        "  def mat2xy(start, end):\n",
        "    if len(start.shape)==1:\n",
        "      start = np.expand_dims(start,0)\n",
        "      #print(start)\n",
        "      end = np.expand_dims(end,0)\n",
        "      #print(end)\n",
        "    #print(\"\\n\",len(start))\n",
        "    #print(\"\\n start is:\", start)\n",
        "    nan = np.ones(len(start))*np.nan\n",
        "    #print(\"\\n\",nan)\n",
        "\n",
        "    x = np.stack((start[:,0], end[:,0], nan)).T.reshape(-1)\n",
        "    #print(\"\\n x is:\",x)\n",
        "    y = np.stack((start[:,1], end[:,1], nan)).T.reshape(-1)\n",
        "    #print(\"\\n y is:\",y)\n",
        "    return x, y\n",
        "\n",
        "  def parallellines(axis, addend, lines, unit):\n",
        "    #print(\"addend:\",addend)\n",
        "    addend = np.repeat(np.expand_dims(addend,0), lines*2, 0) \n",
        "    #print(\"\\nnew addend:\", addend)\n",
        "    unit = np.expand_dims(np.arange(-lines, lines)*unit,1)\n",
        "    unit = unit-lines\n",
        "    addend = addend*unit\n",
        "    lines = np.expand_dims(axis,0) + addend\n",
        "    return np.concatenate((lines, lines*-1))\n",
        "\n",
        "  if fig is None:\n",
        "    fig, ax = plt.subplots(figsize=(10,10))\n",
        "  transform = transform.astype(np.float)\n",
        "  xaxis = transform[0]\n",
        "  #print(\"\\n x axis\", xaxis)\n",
        "  yaxis = transform[1]\n",
        "  #print(\"\\n y axis\", yaxis)\n",
        "    \n",
        "  # plot lines parallel to the x axis\n",
        "  lines1= parallellines(xaxis*lim1, yaxis, 100,unit )\n",
        "  lines2 = parallellines(xaxis*lim2, yaxis, 100,unit )\n",
        "  x,y = mat2xy(lines1, lines2)\n",
        "  plt.plot(x,y, linestyle+'k', linewidth=0.5)\n",
        "  # plot x axis\n",
        "  x,y = mat2xy(xaxis*lim1, xaxis*lim2)\n",
        "  plt.plot(x,y,linestyle, color = '#440077')\n",
        "\n",
        "  # plot  lines parallel to the y axis\n",
        "  lines1= parallellines(yaxis*lim1, xaxis, 100,unit)\n",
        "  lines2 = parallellines(yaxis*lim2, xaxis, 100,unit)\n",
        "  x,y = mat2xy(lines1, lines2)\n",
        "  plt.plot(x,y, linestyle+'k', linewidth=0.5)\n",
        "  # plot y axis\n",
        "  x,y = mat2xy(yaxis*lim1, yaxis*lim2)\n",
        "  plt.plot(x,y,linestyle, color= '#aa5500')\n",
        "\n",
        "  return fig, ax\n",
        "\n",
        "def plotData(X, y, xlabel = 'hole', ylabel = 'bound', fig=None, ax = None):\n",
        "\n",
        "  if fig is None:\n",
        "    fig, ax = plt.subplots()\n",
        "  for ii in range(nclasses):\n",
        "    plt.scatter(X[y==ii,0], X[y==ii, 1])\n",
        "  plt.legend([str(i) for i in range(nclasses)])\n",
        "  plt.xlabel(xlabel)\n",
        "  plt.ylabel(ylabel)\n",
        "  lim2 = X.max() \n",
        "  lim1 = X.min() \n",
        "  add = abs(lim1-lim2)/5\n",
        "  return fig, ax\n"
      ],
      "execution_count": null,
      "outputs": []
    },
    {
      "cell_type": "markdown",
      "metadata": {
        "id": "9d5dmEXxaktp"
      },
      "source": [
        "# Matrix transformations on data\n",
        "\n",
        "A 2D coordinate system is defined by its basis vectors, i and j. In the standard coordinate system (Let us call it T0), the basis vectors are\n",
        "\n",
        "$$\\begin{equation}\n",
        "i = \\left\\{  \\begin{aligned}1 \\\\ 0 \\end{aligned} \\right\\} \n",
        "\\end{equation}$$\n",
        "and\n",
        "$$\\begin{equation} j = \\left\\{ \\begin{aligned} 0 \\\\ 1\\end{aligned} \\right\\} \\end{equation}$$\n",
        "\n",
        "We can use any two vectors as basis vectors for a new coordinate system as long as they are not colinear. To be a basis all that is required is linear independence and they must span the space. For example, let us call this new coordinate system T1:\n",
        "\n",
        "$$\\begin{equation}\n",
        "i = \\left\\{  \\begin{aligned}1 \\\\ -1 \\end{aligned} \\right\\} \n",
        "\\end{equation}$$\n",
        "and\n",
        "$$\\begin{equation} j = \\left\\{ \\begin{aligned} 0 \\\\ 2 \\end{aligned} \\right\\} \\end{equation}$$\n",
        "\n",
        "Suppose we have a point [a,b] in the T1 coordinate system. Its representation in the standard system T0 can be obtained by the following matrix multiplication:\n",
        "\n",
        "$$ \\begin{equation} \n",
        "\\left\\{  \\begin{aligned}a' \\\\ b' \\end{aligned} \\right\\} = \n",
        "\\left\\{  \\begin{aligned}&1 & 0 \\\\ -&1 & 2 \\end{aligned} \\right\\}\n",
        "\\left\\{  \\begin{aligned}a \\\\ b \\end{aligned} \\right\\}\n",
        "\\end{equation}$$\n",
        "where the columns of the matrix are the basis vectors of T1. \n",
        "\n",
        "Let us see this in action:\n"
      ]
    },
    {
      "cell_type": "code",
      "metadata": {
        "id": "K8SCFKqfbM-l",
        "colab": {
          "base_uri": "https://localhost:8080/"
        },
        "outputId": "7d4fded5-6c3b-440a-add4-ebd30e8f9925"
      },
      "source": [
        "T0 = np.array([[1,0],[0,1]])\n",
        "T1 = np.array([[1,0], [-1,2]])\n",
        "\n",
        "data1 = np.array([5,4]) # the data in T1 coordinate system\n",
        "data0 = np.matmul(T1, data1) # the data in T0 coordinate system\n",
        "\n",
        "print('Data in T0 = ', data0)\n",
        "print('Data in T1 = ', data1)"
      ],
      "execution_count": null,
      "outputs": [
        {
          "output_type": "stream",
          "name": "stdout",
          "text": [
            "Data in T0 =  [5 3]\n",
            "Data in T1 =  [5 4]\n"
          ]
        }
      ]
    },
    {
      "cell_type": "markdown",
      "metadata": {
        "id": "kIfEWZ1RQeve"
      },
      "source": [
        "We can visualize this below. T0 is shown with dotted lines and T1 is shown with solid lines. "
      ]
    },
    {
      "cell_type": "code",
      "metadata": {
        "id": "FV7bAEopoENU",
        "outputId": "0c50325b-c96f-4bd8-ee35-5a27f2d4a5bc",
        "colab": {
          "base_uri": "https://localhost:8080/",
          "height": 130
        }
      },
      "source": [
        "## IMPORTANT : IF T IS A NON STANDARD BASIS / COORDINATE SYSTEM, AND P IS VECTOR/COORDINATE OF A POINT IN THIS T SYSTEM, THEN COORDINATE OF P IN STANDARD BASIS\n",
        "## SYSTEM IS : PSTANDARD = T*P [* DENOTES MATRIX MULTIPLICATION]\n",
        "\n",
        "\n",
        "## AND IF Pnonstandard = T^-1 * Pstandard\n",
        "\n",
        "https://towardsdatascience.com/essential-math-for-data-science-basis-and-change-of-basis-f7af2348d463\n",
        "\n",
        "https://math.stackexchange.com/questions/165563/change-to-standard-basis"
      ],
      "execution_count": 78,
      "outputs": [
        {
          "output_type": "error",
          "ename": "SyntaxError",
          "evalue": "ignored",
          "traceback": [
            "\u001b[0;36m  File \u001b[0;32m\"<ipython-input-78-a59452d3bb20>\"\u001b[0;36m, line \u001b[0;32m7\u001b[0m\n\u001b[0;31m    https://towardsdatascience.com/essential-math-for-data-science-basis-and-change-of-basis-f7af2348d463\u001b[0m\n\u001b[0m           ^\u001b[0m\n\u001b[0;31mSyntaxError\u001b[0m\u001b[0;31m:\u001b[0m invalid syntax\n"
          ]
        }
      ]
    },
    {
      "cell_type": "code",
      "metadata": {
        "id": "taCUcAMEpBlt"
      },
      "source": [
        "## EACH COLUMN OF T == BASIS MATRIX IS THE iTH AND jTH VECTOR (IMAGINE AS X AND Y AXIS EQUIVALENT OF NON STANDARD SYSTEM)\n",
        "\n",
        "## FOR STANDARD SYSTEM ==> iTH VECTOR == X AXIS == [1 0] AND jTH VECTOR == Y AXIS == [0 1]\n"
      ],
      "execution_count": null,
      "outputs": []
    },
    {
      "cell_type": "code",
      "metadata": {
        "id": "E0A2Bc36qHg0"
      },
      "source": [
        "fig, ax = plotGrid(T1.T, 1,'-') # custom plotting function, no need to understand this\n",
        "#plotGrid(T0.T, 1, fig=fig, ax=ax) # custom plotting function, no need to understand this\n",
        "plt.scatter(data0[0], data0[1])\n",
        "ax.set_xlim(-10,10)\n",
        "ax.set_ylim(-10,10)\n",
        "ax.set_xticks([]);\n",
        "ax.set_yticks([]);\n"
      ],
      "execution_count": null,
      "outputs": []
    },
    {
      "cell_type": "code",
      "metadata": {
        "id": "jSuTaeSDQoYK"
      },
      "source": [
        "fig, ax = plotGrid(T1.T, 1,'-') # custom plotting function, no need to understand this\n",
        "plotGrid(T0.T, 1, fig=fig, ax=ax) # custom plotting function, no need to understand this\n",
        "plt.scatter(data0[0], data0[1])\n",
        "ax.set_xlim(-10,10)\n",
        "ax.set_ylim(-10,10)\n",
        "ax.set_xticks([]);\n",
        "ax.set_yticks([]);\n"
      ],
      "execution_count": null,
      "outputs": []
    },
    {
      "cell_type": "code",
      "metadata": {
        "colab": {
          "base_uri": "https://localhost:8080/",
          "height": 578
        },
        "id": "uQ927lleopa5",
        "outputId": "8976599f-1e42-4924-d1da-3920bc02adad"
      },
      "source": [
        "\n",
        "fig, ax = plotGrid(T0.T, 1,'-') # custom plotting function, no need to understand this\n",
        "plotGrid(T0.T, 1, fig=fig, ax=ax) # custom plotting function, no need to understand this\n",
        "plt.scatter(data0[0], data0[1])\n",
        "ax.set_xlim(-10,10)\n",
        "ax.set_ylim(-10,10)\n",
        "ax.set_xticks([]);\n",
        "ax.set_yticks([]);\n"
      ],
      "execution_count": null,
      "outputs": [
        {
          "output_type": "display_data",
          "data": {
            "image/png": "[encoded data removed]",
            "text/plain": [
              "<Figure size 720x720 with 1 Axes>"
            ]
          },
          "metadata": {}
        }
      ]
    },
    {
      "cell_type": "markdown",
      "metadata": {
        "id": "nUb3oYWIgdya"
      },
      "source": [
        "Look at the coordinates of the blue dot. In T0 (dotted lines), the position is [5,3] where it is [5,4] in T1. Feel free to experiment with different data points and coordinate systems. \n",
        "\n",
        "Remember that we can achieve the same thing by post-multiplying the transpose of the transformation matrix to the data. This will come in handy when transforming multiple data points at once:"
      ]
    },
    {
      "cell_type": "code",
      "metadata": {
        "id": "SD4pqOMndf-4",
        "colab": {
          "base_uri": "https://localhost:8080/"
        },
        "outputId": "fa0d007d-3118-4de3-84b1-63e351d6e363"
      },
      "source": [
        "data0_a = np.matmul(T1, data1)\n",
        "data0_b = np.matmul(data1, T1.T)\n",
        "print(data0_a)\n",
        "print(data0_b)\n",
        "\n"
      ],
      "execution_count": null,
      "outputs": [
        {
          "output_type": "stream",
          "name": "stdout",
          "text": [
            "[5 3]\n",
            "[5 3]\n"
          ]
        }
      ]
    },
    {
      "cell_type": "markdown",
      "metadata": {
        "id": "Z-Kui3dSESPm"
      },
      "source": [
        "Why is transforming data useful? Data transformations cause the distance between data points to change. This will affect distance-based algorithms such as nearest neighbour"
      ]
    },
    {
      "cell_type": "code",
      "metadata": {
        "id": "nE0NbpYIC9ou",
        "colab": {
          "base_uri": "https://localhost:8080/"
        },
        "outputId": "08ad3931-9d59-4858-8ef7-d4bc2918f567"
      },
      "source": [
        "# let us define 3 points in T1\n",
        "A1 = np.array([3,3])\n",
        "B1 = np.array([2,-5])\n",
        "C1 = np.array([1,-1])\n",
        "\n",
        "# the corresponding points in T0:\n",
        "A0 = np.matmul(T1, A1)\n",
        "B0 = np.matmul(T1, B1)\n",
        "C0 = np.matmul(T1, C1)\n",
        "\n",
        "# function to calculate Euclidean distance:\n",
        "def dist(a, b):\n",
        "  diff = a-b\n",
        "  sq = diff*diff\n",
        "  return np.sqrt(sq.sum())\n",
        "\n",
        "# distance between the points in T1\n",
        "print('Distance between A and B in T1 = ', dist(A1, B1))\n",
        "print('Distance between B and C in T1 = ', dist(B1, C1))\n",
        "print('Distance between A and C in T1 = ', dist(A1, C1))\n",
        "\n",
        "print('')\n",
        "# distnace between the points in T0\n",
        "print('Distance between A and B in T0 = ', dist(A0, B0))\n",
        "print('Distance between B and C in T0 = ', dist(B0, C0))\n",
        "print('Distance between A and C in T0 = ', dist(A0, C0))"
      ],
      "execution_count": null,
      "outputs": [
        {
          "output_type": "stream",
          "name": "stdout",
          "text": [
            "Distance between A and B in T1 =  8.06225774829855\n",
            "Distance between B and C in T1 =  4.123105625617661\n",
            "Distance between A and C in T1 =  4.47213595499958\n",
            "\n",
            "Distance between A and B in T0 =  15.033296378372908\n",
            "Distance between B and C in T0 =  9.055385138137417\n",
            "Distance between A and C in T0 =  6.324555320336759\n"
          ]
        }
      ]
    },
    {
      "cell_type": "markdown",
      "metadata": {
        "id": "YE95JMniUtDm"
      },
      "source": [
        "We see that in T1, B and C are the closest whereas in T0, A and C are the closest. These kinds of changes will affect the predictions returned by the nearest neighbour algorithm. "
      ]
    },
    {
      "cell_type": "markdown",
      "metadata": {
        "id": "PFbpTSBdV29C"
      },
      "source": [
        "# Transformations on MNIST\n",
        "\n",
        "Let us experiment with a subset of the MNIST dataset. We will extract two features from the database for our experiment. "
      ]
    },
    {
      "cell_type": "markdown",
      "metadata": {
        "id": "kMvUzC2GUawS"
      },
      "source": [
        "Functions for nearest neighbour, accuracy and feature extraction. (from previous labs)"
      ]
    },
    {
      "cell_type": "code",
      "metadata": {
        "cellView": "form",
        "id": "22ayl0sViF5-"
      },
      "source": [
        "#@title\n",
        "\n",
        "def NN1(traindata, trainlabel, query):\n",
        "  diff  = traindata - query  # find the difference between features. Numpy automatically takes care of the size here \n",
        "  sq = diff*diff # square the differences\n",
        "  dist = sq.sum(1) # add up the squares\n",
        "  label = trainlabel[np.argmin(dist)] # our predicted label is the label of the training data which has the least distance from the query\n",
        "  return label\n",
        "\n",
        "def NN(traindata, trainlabel, testdata):\n",
        "  # we will run nearest neighbour for each sample in the test data \n",
        "  # and collect the predicted classes in an array using list comprehension\n",
        "  predlabel = np.array([NN1(traindata, trainlabel, i) for i in testdata])\n",
        "  return predlabel\n",
        "\n",
        "def Accuracy(gtlabel, predlabel):\n",
        "  assert len(gtlabel)==len(predlabel), \"Length of the groundtruth labels and predicted labels should be the same\"\n",
        "  correct = (gtlabel==predlabel).sum() # count the number of times the groundtruth label is equal to the predicted label.\n",
        "  return correct/len(gtlabel)\n",
        "\n",
        "def cumArray(img):\n",
        "  img2 = img.copy()\n",
        "  for ii in range(1, img2.shape[1]):\n",
        "    img2[ii,:] = img2[ii,:] + img2[ii-1,:]  # for every row, add up all the rows above it.\n",
        "  img2 = img2>0\n",
        "  return img2\n",
        "\n",
        "def getHolePixels(img):\n",
        "  im1 = cumArray(img)\n",
        "  im2 = np.rot90(cumArray(np.rot90(img)), 3) # rotate and cumulate it again for differnt direction\n",
        "  im3 = np.rot90(cumArray(np.rot90(img, 2)), 2)\n",
        "  im4 = np.rot90(cumArray(np.rot90(img, 3)), 1)\n",
        "  hull =  im1 & im2 & im3 & im4 # this will create a binary image with all the holes filled in.\n",
        "  hole = hull & ~ (img>0) # remove the original digit to leave behind the holes\n",
        "  return hole\n",
        "\n",
        "def getHullPixels(img):\n",
        "  im1 = cumArray(img)\n",
        "  im2 = np.rot90(cumArray(np.rot90(img)), 3) # rotate and cumulate it again for differnt direction\n",
        "  im3 = np.rot90(cumArray(np.rot90(img, 2)), 2)\n",
        "  im4 = np.rot90(cumArray(np.rot90(img, 3)), 1)\n",
        "  hull =  im1 & im2 & im3 & im4 # this will create a binary image with all the holes filled in.\n",
        "  return hull\n",
        "\n",
        "def minus(a, b):\n",
        "  return a & ~ b\n",
        "\n",
        "def getBoundaryPixels(img):\n",
        "  img = img.copy()>0  # binarize the image\n",
        "  rshift = np.roll(img, 1, 1)\n",
        "  lshift = np.roll(img, -1 ,1)\n",
        "  ushift = np.roll(img, -1, 0)\n",
        "  dshift = np.roll(img, 1, 0)\n",
        "  boundary = minus(img, rshift) | minus(img, lshift) | minus(img, ushift) | minus(img, dshift)\n",
        "  return boundary\n",
        "\n",
        "\n"
      ],
      "execution_count": null,
      "outputs": []
    },
    {
      "cell_type": "markdown",
      "metadata": {
        "id": "RzF-9mGxUkWC"
      },
      "source": [
        "Get the MNIST dataset:"
      ]
    },
    {
      "cell_type": "code",
      "metadata": {
        "id": "rLioX9fTr6wF"
      },
      "source": [
        "def minus(a, b):\n",
        "  return a & ~ b\n",
        "\n",
        "def getBoundaryPixels(img):\n",
        "  img = img.copy()>0  # binarize the image\n",
        "  rshift = np.roll(img, 1, 1)\n",
        "  lshift = np.roll(img, -1 ,1)\n",
        "  ushift = np.roll(img, -1, 0)\n",
        "  dshift = np.roll(img, 1, 0)\n",
        "  boundary = minus(img, rshift) | minus(img, lshift) | minus(img, ushift) | minus(img, dshift)\n",
        "  return boundary\n",
        "\n",
        "def cumArray(img):\n",
        "  img2 = img.copy()\n",
        "  for ii in range(1, img2.shape[1]):\n",
        "    img2[ii,:] = img2[ii,:] + img2[ii-1,:]  # for every row, add up all the rows above it.\n",
        "  #print(img2)\n",
        "  img2 = img2>0\n",
        "  #print(img2)\n",
        "  return img2\n",
        "\n",
        "def getHolePixels(img):\n",
        "  im1 = cumArray(img)\n",
        "  im2 = np.rot90(cumArray(np.rot90(img)), 3) # rotate and cumulate it again for differnt direction\n",
        "  im3 = np.rot90(cumArray(np.rot90(img, 2)), 2)\n",
        "  im4 = np.rot90(cumArray(np.rot90(img, 3)), 1)\n",
        "  hull =  im1 & im2 & im3 & im4 # this will create a binary image with all the holes filled in.\n",
        "  hole = hull & ~ (img>0) # remove the original digit to leave behind the holes\n",
        "  return hole\n",
        "\n",
        "\n",
        "def getHullPixels(img):\n",
        "  im1 = cumArray(img)\n",
        "  im2 = np.rot90(cumArray(np.rot90(img)), 3) # rotate and cumulate it again for differnt direction\n",
        "  im3 = np.rot90(cumArray(np.rot90(img, 2)), 2)\n",
        "  im4 = np.rot90(cumArray(np.rot90(img, 3)), 1)\n",
        "  hull =  im1 & im2 & im3 & im4 # this will create a binary image with all the holes filled in.\n",
        "  return hull\n"
      ],
      "execution_count": null,
      "outputs": []
    },
    {
      "cell_type": "code",
      "metadata": {
        "id": "bHz5BVmLUjzb"
      },
      "source": [
        "#loading the dataset\n",
        "(train_X, train_y), (test_X, test_y) = mnist.load_data()\n",
        "train_X = train_X/255\n",
        "test_X = test_X/255\n",
        "\n",
        "nclasses = 4\n",
        "\n",
        "# get only for the first 4 classes\n",
        "train_X = train_X[train_y<nclasses]\n",
        "train_y = train_y[train_y<nclasses]\n",
        "test_X = test_X[test_y<nclasses]\n",
        "test_y = test_y[test_y<nclasses]\n",
        "\n",
        "train_X = train_X[::100].copy() # We are only taking a subset of the training set\n",
        "train_y = train_y[::100].copy() # do the same to the labels\n",
        "test_X = test_X[::100].copy() # taking a subset of the test set. This code takes every 500th sample\n",
        "test_y = test_y[::100].copy()\n",
        "\n",
        "# get all the features\n",
        "train_hole = np.array([getHolePixels(i).sum() for i in train_X])\n",
        "test_hole = np.array([getHolePixels(i).sum() for i in test_X])\n",
        "train_bound = np.array([getBoundaryPixels(i).sum() for i in train_X])\n",
        "test_bound = np.array([getBoundaryPixels(i).sum() for i in test_X])\n",
        "# train_hull = np.array([getHullPixels(i).sum() for i in train_X])\n",
        "# test_hull = np.array([getHullPixels(i).sum() for i in test_X])\n",
        "# train_sum = np.sum(train_X, (1,2))/(28*28)\n",
        "# test_sum = np.sum(test_X, (1,2))/(28*28)\n",
        "\n",
        "# create the train and test set by combining the appropriate features\n",
        "train_feats = np.vstack((train_hole,train_bound)).transpose()\n",
        "test_feats = np.vstack((test_hole, test_bound)).transpose()"
      ],
      "execution_count": null,
      "outputs": []
    },
    {
      "cell_type": "markdown",
      "metadata": {
        "id": "I7qGVrlnQCUy"
      },
      "source": [
        "Let us plot the samples and see what they look like:"
      ]
    },
    {
      "cell_type": "code",
      "metadata": {
        "colab": {
          "base_uri": "https://localhost:8080/"
        },
        "id": "DnqAj7lprnZs",
        "outputId": "807e6d32-46a1-414c-ecad-a5b51fb83ed0"
      },
      "source": [
        "train_feats.shape #248 samples and 2 is the number of features == holes and bound"
      ],
      "execution_count": null,
      "outputs": [
        {
          "output_type": "execute_result",
          "data": {
            "text/plain": [
              "(248, 2)"
            ]
          },
          "metadata": {},
          "execution_count": 18
        }
      ]
    },
    {
      "cell_type": "code",
      "metadata": {
        "colab": {
          "base_uri": "https://localhost:8080/"
        },
        "id": "6RPqsTMFDNG8",
        "outputId": "d85ad81c-f992-4dff-d7e1-e652f0285686"
      },
      "source": [
        "train_feats"
      ],
      "execution_count": null,
      "outputs": [
        {
          "output_type": "execute_result",
          "data": {
            "text/plain": [
              "array([[ 72,  87],\n",
              "       [ 71,  84],\n",
              "       [ 66,  89],\n",
              "       [ 11,  69],\n",
              "       [ 20,  87],\n",
              "       [  0,  42],\n",
              "       [  9,  69],\n",
              "       [ 99,  93],\n",
              "       [ 10,  83],\n",
              "       [  0,  59],\n",
              "       [  0,  47],\n",
              "       [  0,  86],\n",
              "       [ 86,  86],\n",
              "       [ 37,  76],\n",
              "       [  4,  60],\n",
              "       [  6,  90],\n",
              "       [ 71,  84],\n",
              "       [121,  95],\n",
              "       [ 21,  84],\n",
              "       [ 18,  75],\n",
              "       [ 16,  89],\n",
              "       [  4,  57],\n",
              "       [  0,  70],\n",
              "       [101,  97],\n",
              "       [  0,  42],\n",
              "       [  0,  64],\n",
              "       [  0,  61],\n",
              "       [ 32,  93],\n",
              "       [  7,  71],\n",
              "       [  0,  48],\n",
              "       [  1,  59],\n",
              "       [  0,  43],\n",
              "       [  2,  67],\n",
              "       [ 46,  84],\n",
              "       [  0,  44],\n",
              "       [  0,  55],\n",
              "       [ 62,  88],\n",
              "       [  0,  95],\n",
              "       [ 17,  83],\n",
              "       [118,  91],\n",
              "       [  0,  80],\n",
              "       [ 72,  88],\n",
              "       [ 12,  84],\n",
              "       [  6,  84],\n",
              "       [  8,  76],\n",
              "       [ 78,  86],\n",
              "       [ 16,  73],\n",
              "       [ 80,  88],\n",
              "       [  0,  68],\n",
              "       [ 29,  76],\n",
              "       [  6,  77],\n",
              "       [  0,  66],\n",
              "       [ 76,  95],\n",
              "       [  0,  43],\n",
              "       [119,  92],\n",
              "       [ 13,  81],\n",
              "       [  0,  77],\n",
              "       [ 24,  82],\n",
              "       [  0,  47],\n",
              "       [ 26,  90],\n",
              "       [110,  97],\n",
              "       [ 32,  82],\n",
              "       [ 16,  88],\n",
              "       [ 73,  89],\n",
              "       [  3,  68],\n",
              "       [ 29, 114],\n",
              "       [ 13,  77],\n",
              "       [ 11,  85],\n",
              "       [ 15,  67],\n",
              "       [  0,  44],\n",
              "       [  0,  44],\n",
              "       [ 86,  85],\n",
              "       [  9,  74],\n",
              "       [  0,  48],\n",
              "       [  1,  47],\n",
              "       [  0,  57],\n",
              "       [  1,  65],\n",
              "       [128,  95],\n",
              "       [ 11,  78],\n",
              "       [ 68,  82],\n",
              "       [  0,  42],\n",
              "       [ 30,  83],\n",
              "       [  1,  46],\n",
              "       [  8,  96],\n",
              "       [  0,  55],\n",
              "       [  9,  66],\n",
              "       [  3,  79],\n",
              "       [ 15,  78],\n",
              "       [  0,  42],\n",
              "       [ 21,  75],\n",
              "       [  0,  49],\n",
              "       [ 14,  73],\n",
              "       [  0,  42],\n",
              "       [ 42,  93],\n",
              "       [ 75,  83],\n",
              "       [ 21,  82],\n",
              "       [  0,  43],\n",
              "       [  6,  77],\n",
              "       [ 91,  95],\n",
              "       [  0,  52],\n",
              "       [ 18,  88],\n",
              "       [ 14,  79],\n",
              "       [  3,  60],\n",
              "       [  4,  64],\n",
              "       [  0,  42],\n",
              "       [  0,  44],\n",
              "       [  2,  73],\n",
              "       [ 50,  73],\n",
              "       [  0,  45],\n",
              "       [  0,  44],\n",
              "       [ 86,  87],\n",
              "       [111,  98],\n",
              "       [ 30,  93],\n",
              "       [ 25,  70],\n",
              "       [  0,  84],\n",
              "       [  4,  73],\n",
              "       [159, 107],\n",
              "       [  0,  46],\n",
              "       [ 18,  79],\n",
              "       [ 17,  74],\n",
              "       [  0,  44],\n",
              "       [148, 101],\n",
              "       [ 30,  80],\n",
              "       [  3,  77],\n",
              "       [  0,  44],\n",
              "       [ 18,  74],\n",
              "       [ 42,  87],\n",
              "       [ 28,  91],\n",
              "       [ 17,  86],\n",
              "       [  0,  49],\n",
              "       [ 18,  80],\n",
              "       [  0,  42],\n",
              "       [ 14,  89],\n",
              "       [ 18,  86],\n",
              "       [ 26,  76],\n",
              "       [  0,  41],\n",
              "       [ 76,  82],\n",
              "       [ 10,  77],\n",
              "       [  0,  42],\n",
              "       [ 19,  94],\n",
              "       [ 18,  83],\n",
              "       [  3,  78],\n",
              "       [  9,  72],\n",
              "       [  0,  42],\n",
              "       [ 36,  92],\n",
              "       [  0,  43],\n",
              "       [  0,  46],\n",
              "       [  0,  43],\n",
              "       [ 70,  87],\n",
              "       [ 12,  65],\n",
              "       [104,  90],\n",
              "       [ 28,  85],\n",
              "       [  3,  70],\n",
              "       [ 15,  86],\n",
              "       [  0,  45],\n",
              "       [ 29,  86],\n",
              "       [  0,  50],\n",
              "       [ 44,  79],\n",
              "       [  0,  43],\n",
              "       [  0,  90],\n",
              "       [  0,  67],\n",
              "       [  0,  43],\n",
              "       [ 85,  95],\n",
              "       [  9,  70],\n",
              "       [  5,  87],\n",
              "       [ 24,  91],\n",
              "       [  0,  67],\n",
              "       [ 16,  82],\n",
              "       [  0,  66],\n",
              "       [ 13,  67],\n",
              "       [  0,  44],\n",
              "       [  4,  81],\n",
              "       [ 48,  91],\n",
              "       [  0,  46],\n",
              "       [  0,  70],\n",
              "       [  0,  73],\n",
              "       [ 20,  78],\n",
              "       [ 14,  92],\n",
              "       [ 39,  84],\n",
              "       [ 15,  73],\n",
              "       [ 23,  76],\n",
              "       [ 31,  81],\n",
              "       [ 68,  93],\n",
              "       [  4,  71],\n",
              "       [ 13,  65],\n",
              "       [  0,  42],\n",
              "       [  2,  68],\n",
              "       [ 11,  72],\n",
              "       [  0,  43],\n",
              "       [ 35,  78],\n",
              "       [ 21,  96],\n",
              "       [ 38,  96],\n",
              "       [  0,  43],\n",
              "       [  0,  40],\n",
              "       [ 50,  82],\n",
              "       [ 25,  82],\n",
              "       [  0,  45],\n",
              "       [  0,  40],\n",
              "       [  2,  67],\n",
              "       [ 65,  91],\n",
              "       [  0,  44],\n",
              "       [  3,  76],\n",
              "       [ 93, 104],\n",
              "       [ 32,  85],\n",
              "       [ 84,  94],\n",
              "       [ 43,  94],\n",
              "       [ 23,  82],\n",
              "       [ 84,  86],\n",
              "       [  7,  77],\n",
              "       [  8,  74],\n",
              "       [109,  88],\n",
              "       [  1,  75],\n",
              "       [ 76,  86],\n",
              "       [ 88,  92],\n",
              "       [ 73,  87],\n",
              "       [ 32,  95],\n",
              "       [ 37,  89],\n",
              "       [  3,  63],\n",
              "       [  7,  81],\n",
              "       [ 18,  80],\n",
              "       [ 32,  96],\n",
              "       [ 21,  86],\n",
              "       [  0,  43],\n",
              "       [  8,  85],\n",
              "       [  4,  67],\n",
              "       [101,  94],\n",
              "       [  6,  65],\n",
              "       [  0,  78],\n",
              "       [ 30,  83],\n",
              "       [  0,  41],\n",
              "       [107, 104],\n",
              "       [ 27,  87],\n",
              "       [  8,  81],\n",
              "       [106,  94],\n",
              "       [  0,  45],\n",
              "       [  0,  41],\n",
              "       [  0,  42],\n",
              "       [ 47,  87],\n",
              "       [ 74, 103],\n",
              "       [ 78,  91],\n",
              "       [ 10,  85],\n",
              "       [  0,  50],\n",
              "       [ 25,  78],\n",
              "       [113,  95],\n",
              "       [ 47,  88],\n",
              "       [ 15,  78],\n",
              "       [  5,  95],\n",
              "       [  0,  45]])"
            ]
          },
          "metadata": {},
          "execution_count": 32
        }
      ]
    },
    {
      "cell_type": "code",
      "metadata": {
        "colab": {
          "base_uri": "https://localhost:8080/"
        },
        "id": "19ZAP2jvDZ19",
        "outputId": "d37c4ac8-2d51-46c9-aee4-c9f35466081e"
      },
      "source": [
        "train_y"
      ],
      "execution_count": null,
      "outputs": [
        {
          "output_type": "execute_result",
          "data": {
            "text/plain": [
              "array([0, 0, 0, 2, 2, 1, 2, 0, 2, 3, 1, 3, 0, 0, 3, 3, 0, 0, 3, 2, 2, 1,\n",
              "       3, 0, 1, 3, 2, 3, 2, 1, 3, 1, 2, 0, 1, 2, 0, 3, 2, 0, 3, 0, 2, 2,\n",
              "       2, 0, 0, 0, 3, 0, 3, 3, 0, 1, 0, 3, 3, 2, 1, 3, 0, 3, 3, 0, 2, 2,\n",
              "       3, 3, 2, 1, 1, 0, 2, 1, 1, 2, 3, 0, 2, 0, 1, 0, 1, 3, 1, 2, 3, 3,\n",
              "       1, 2, 1, 2, 1, 3, 0, 2, 1, 3, 0, 1, 3, 2, 1, 2, 1, 1, 2, 0, 1, 1,\n",
              "       0, 0, 3, 0, 2, 2, 0, 1, 3, 2, 1, 0, 0, 2, 1, 2, 0, 2, 2, 2, 2, 1,\n",
              "       3, 3, 0, 1, 0, 2, 1, 2, 3, 2, 3, 1, 0, 1, 1, 1, 0, 3, 0, 2, 2, 2,\n",
              "       1, 2, 1, 0, 1, 3, 3, 1, 0, 0, 3, 2, 3, 3, 1, 2, 1, 2, 3, 1, 2, 2,\n",
              "       3, 2, 0, 3, 3, 2, 0, 2, 3, 1, 2, 2, 1, 2, 2, 3, 1, 1, 0, 3, 1, 1,\n",
              "       2, 0, 1, 3, 0, 3, 0, 2, 2, 0, 2, 2, 0, 3, 0, 0, 0, 3, 3, 2, 2, 2,\n",
              "       2, 3, 1, 2, 2, 0, 0, 2, 2, 1, 0, 3, 3, 0, 1, 1, 1, 0, 0, 0, 3, 1,\n",
              "       2, 0, 3, 3, 3, 1], dtype=uint8)"
            ]
          },
          "metadata": {},
          "execution_count": 33
        }
      ]
    },
    {
      "cell_type": "code",
      "metadata": {
        "id": "saRzHfi9QAGd",
        "colab": {
          "base_uri": "https://localhost:8080/",
          "height": 300
        },
        "outputId": "22ae6369-4e95-4475-df5d-d4269a657385"
      },
      "source": [
        "# fix limits of x and y axis so that we can see what is going on\n",
        "xlim=[-100,300]\n",
        "ylim=[-100,300]\n",
        "fig, ax = plotData(train_feats, train_y)\n",
        "ax.set_xlim(xlim)\n",
        "ax.set_ylim(ylim)"
      ],
      "execution_count": null,
      "outputs": [
        {
          "output_type": "execute_result",
          "data": {
            "text/plain": [
              "(-100.0, 300.0)"
            ]
          },
          "metadata": {},
          "execution_count": 19
        },
        {
          "output_type": "display_data",
          "data": {
            "image/png": "[encoded data removed]",
            "text/plain": [
              "<Figure size 432x288 with 1 Axes>"
            ]
          },
          "metadata": {
            "needs_background": "light"
          }
        }
      ]
    },
    {
      "cell_type": "code",
      "metadata": {
        "id": "qf6ZCx7ctB_k"
      },
      "source": [
        "## Elongated in the x direction, as range of values features can take is different, we generally dont like this in ml models."
      ],
      "execution_count": null,
      "outputs": []
    },
    {
      "cell_type": "markdown",
      "metadata": {
        "id": "hCb4DikQP1ck"
      },
      "source": [
        "Check the baseline accuracy on the test set:"
      ]
    },
    {
      "cell_type": "code",
      "metadata": {
        "id": "bEs6cXR_tbRg"
      },
      "source": [
        "\n",
        "def NN1(traindata, trainlabel, query):\n",
        "  diff  = traindata - query  # find the difference between features. Numpy automatically takes care of the size here \n",
        "  sq = diff*diff # square the differences\n",
        "  dist = sq.sum(1) # add up the squares\n",
        "  label = trainlabel[np.argmin(dist)] # our predicted label is the label of the training data which has the least distance from the query\n",
        "  return label\n",
        "\n",
        "def NN(traindata, trainlabel, testdata):\n",
        "  # we will run nearest neighbour for each sample in the test data \n",
        "  # and collect the predicted classes in an array using list comprehension\n",
        "  predlabel = np.array([NN1(traindata, trainlabel, i) for i in testdata])\n",
        "  return predlabel\n",
        "\n",
        "def Accuracy(gtlabel, predlabel):\n",
        "  assert len(gtlabel)==len(predlabel), \"Length of the groundtruth labels and predicted labels should be the same\"\n",
        "  correct = (gtlabel==predlabel).sum() # count the number of times the groundtruth label is equal to the predicted label.\n",
        "  return correct/len(gtlabel)"
      ],
      "execution_count": null,
      "outputs": []
    },
    {
      "cell_type": "code",
      "metadata": {
        "id": "rxVr6bd9PzlI",
        "colab": {
          "base_uri": "https://localhost:8080/"
        },
        "outputId": "f0d7fb85-4676-453e-96bf-4d86035bc3fe"
      },
      "source": [
        "test_pred = NN(train_feats, train_y, test_feats)\n",
        "acc = Accuracy(test_y, test_pred)\n",
        "print('Baseline accuracy = ', acc)"
      ],
      "execution_count": null,
      "outputs": [
        {
          "output_type": "stream",
          "name": "stdout",
          "text": [
            "Baseline accuracy =  0.7619047619047619\n"
          ]
        }
      ]
    },
    {
      "cell_type": "markdown",
      "metadata": {
        "id": "nl8Noo8pZRek"
      },
      "source": [
        "Let us try transforming the features and checking their accuracy:"
      ]
    },
    {
      "cell_type": "code",
      "metadata": {
        "id": "8dUPWRsEZKwo"
      },
      "source": [
        "transform = np.array([[0.5,-0.5],[0,2.5]])\n",
        "\n",
        "train_feats_t = np.matmul(train_feats, transform)\n",
        "test_feats_t = np.matmul(test_feats, transform)  # whatever transform we are applying to the training set should be applied to the test set also"
      ],
      "execution_count": null,
      "outputs": []
    },
    {
      "cell_type": "code",
      "metadata": {
        "id": "HgV9_M8dFO0z"
      },
      "source": [],
      "execution_count": null,
      "outputs": []
    },
    {
      "cell_type": "code",
      "metadata": {
        "id": "iRH4VckHZaWv",
        "colab": {
          "base_uri": "https://localhost:8080/",
          "height": 300
        },
        "outputId": "e609325d-6e87-4507-84a5-637837fa1c87"
      },
      "source": [
        "fig, ax = plotData(train_feats_t, train_y)\n",
        "ax.set_xlim(xlim)\n",
        "ax.set_ylim(ylim)"
      ],
      "execution_count": null,
      "outputs": [
        {
          "output_type": "execute_result",
          "data": {
            "text/plain": [
              "(-100.0, 300.0)"
            ]
          },
          "metadata": {},
          "execution_count": 26
        },
        {
          "output_type": "display_data",
          "data": {
            "image/png": "[encoded data removed]",
            "text/plain": [
              "<Figure size 432x288 with 1 Axes>"
            ]
          },
          "metadata": {
            "needs_background": "light"
          }
        }
      ]
    },
    {
      "cell_type": "code",
      "metadata": {
        "colab": {
          "base_uri": "https://localhost:8080/",
          "height": 300
        },
        "id": "6j76AQrYFPm9",
        "outputId": "a6184da2-de76-49ad-f11c-7a91018fee74"
      },
      "source": [
        "transform = np.array([[0.5,-0.5],[0,4.5]])\n",
        "\n",
        "train_feats_t = np.matmul(train_feats, transform)\n",
        "test_feats_t = np.matmul(test_feats, transform)  # whatever transform we are applying to the training set should be applied to the test set also\n",
        "\n",
        "fig, ax = plotData(train_feats_t, train_y)\n",
        "ax.set_xlim(xlim)\n",
        "ax.set_ylim(ylim)"
      ],
      "execution_count": null,
      "outputs": [
        {
          "output_type": "execute_result",
          "data": {
            "text/plain": [
              "(-100.0, 300.0)"
            ]
          },
          "metadata": {},
          "execution_count": 35
        },
        {
          "output_type": "display_data",
          "data": {
            "image/png": "[encoded data removed]",
            "text/plain": [
              "<Figure size 432x288 with 1 Axes>"
            ]
          },
          "metadata": {
            "needs_background": "light"
          }
        }
      ]
    },
    {
      "cell_type": "code",
      "metadata": {
        "id": "0DD4K9KitqSG"
      },
      "source": [
        "\n",
        "## observe how the plot has changed. Since the values of the transformation matrix were chosen in such a way that it brings about this elongation in y direction - ie along bound.\n",
        "## you can play with these values"
      ],
      "execution_count": null,
      "outputs": []
    },
    {
      "cell_type": "code",
      "metadata": {
        "id": "l9fknczfZdYF",
        "colab": {
          "base_uri": "https://localhost:8080/"
        },
        "outputId": "46e64de4-0c5d-40c2-92d4-d784521aa562"
      },
      "source": [
        "test_pred = NN(train_feats_t, train_y, test_feats_t)\n",
        "acc = Accuracy(test_y, test_pred)\n",
        "print('Accuracy after transform = ', acc)"
      ],
      "execution_count": null,
      "outputs": [
        {
          "output_type": "stream",
          "name": "stdout",
          "text": [
            "Accuracy after transform =  0.8095238095238095\n"
          ]
        }
      ]
    },
    {
      "cell_type": "markdown",
      "metadata": {
        "id": "OFBQlAnNZ3on"
      },
      "source": [
        "## Questions:\n",
        "1. Experiment with different transformation matrices and check the accuracy\n",
        "2. Will the same transform used for these two features also work for other features?"
      ]
    },
    {
      "cell_type": "markdown",
      "metadata": {
        "id": "36TOA47xak20"
      },
      "source": [
        "# Data normalization\n",
        "\n",
        "Sometimes the features of our data have vastly different scales. This will cause the learning algorithm to give more importance to certain features, reducing its performance. Data normalization is a method in which we transform the features so that they have similar scales. \n",
        "\n",
        "Three commonly used feature scaling techniques are rescaling, mean normalization and z-score normalization. Here, we will talk about the simplest one: rescaling. \n",
        "\n",
        "$$\\begin{equation}\n",
        "x' = \\frac {x -min(x)} { max(x) - min(x)}\n",
        "\\end{equation}$$\n",
        "\n",
        "\n",
        "\n",
        "For more information, see [this page](https://towardsdatascience.com/data-normalization-in-machine-learning-395fdec69d02)."
      ]
    },
    {
      "cell_type": "code",
      "metadata": {
        "id": "ni19QKDLZzeo"
      },
      "source": [
        "def rescale(data):\n",
        "  return (data - data.min())/(data.max() - data.min())"
      ],
      "execution_count": null,
      "outputs": []
    },
    {
      "cell_type": "markdown",
      "metadata": {
        "id": "8k83ZMtKeZrQ"
      },
      "source": [
        "We have to apply the rescaling to each feature individually. Also remember to apply the same transform we are using on the train set to the test set. "
      ]
    },
    {
      "cell_type": "code",
      "metadata": {
        "id": "1JLOPwhvehpR"
      },
      "source": [
        "train_feats_rescaled_x = rescale(train_feats[:,0])\n",
        "train_feats_rescaled_y = rescale(train_feats[:,1])\n",
        "train_feats_rescaled = np.stack((train_feats_rescaled_x, train_feats_rescaled_y),1)\n",
        "\n",
        "test_feats_rescaled_x = rescale(test_feats[:,0])\n",
        "test_feats_rescaled_y = rescale(test_feats[:,1])\n",
        "test_feats_rescaled = np.stack((test_feats_rescaled_x, test_feats_rescaled_y),1)"
      ],
      "execution_count": null,
      "outputs": []
    },
    {
      "cell_type": "markdown",
      "metadata": {
        "id": "RaZVy9vxfKwX"
      },
      "source": [
        "Let us plot the rescaled features:"
      ]
    },
    {
      "cell_type": "code",
      "metadata": {
        "id": "LXyatpwZevOH",
        "colab": {
          "base_uri": "https://localhost:8080/",
          "height": 279
        },
        "outputId": "7face6fa-a38b-437f-903f-81e980eb5ea5"
      },
      "source": [
        "fig, ax = plotData(train_feats_rescaled, train_y)\n"
      ],
      "execution_count": null,
      "outputs": [
        {
          "output_type": "display_data",
          "data": {
            "image/png": "[encoded data removed]",
            "text/plain": [
              "<Figure size 432x288 with 1 Axes>"
            ]
          },
          "metadata": {
            "needs_background": "light"
          }
        }
      ]
    },
    {
      "cell_type": "markdown",
      "metadata": {
        "id": "ZjBgxE6zglsL"
      },
      "source": [
        "This type of rescaling makes all the features between 0 and 1. \n",
        "\n",
        "Let us calculate the accuracy obtained by this transform:"
      ]
    },
    {
      "cell_type": "code",
      "metadata": {
        "id": "hKQnsj-KgNZc",
        "colab": {
          "base_uri": "https://localhost:8080/"
        },
        "outputId": "7c3871b9-2d73-4356-ac56-f29a2f533c0e"
      },
      "source": [
        "test_pred = NN(train_feats_rescaled, train_y, test_feats_rescaled)\n",
        "acc = Accuracy(test_y, test_pred)\n",
        "print('Accuracy after transform = ', acc)"
      ],
      "execution_count": null,
      "outputs": [
        {
          "output_type": "stream",
          "name": "stdout",
          "text": [
            "Accuracy after transform =  0.8095238095238095\n"
          ]
        }
      ]
    },
    {
      "cell_type": "markdown",
      "metadata": {
        "id": "7qYX90Gqg-jO"
      },
      "source": [
        "All 2D linear transformations can be repreented by a transformation matrix. So what is the matrix associated with the rescaling function? Actually, we cannot represent rescaling with a matrix multiplication, because it is not a linear transform. Rescaling involves shifting the origin of the data, which is not allowed under linear transformations.\n",
        "\n",
        "We can represent rescaling as a matrix multiplication followed by a vector addition. Let our first feature vector be called X and second feature vector be called Y. Suppose we want to rescale a data point [a,b]\n",
        "\n",
        "$$ \\begin{equation}\n",
        " \\left\\{  \\begin{aligned}a' \\\\ b' \\end{aligned} \\right\\} = \n",
        " \\left\\{  \\begin{aligned} \\frac{a - min(X)}{max(X) - min(X)} \\\\ \\frac{b - min(Y)}{max(Y) - min(Y)} \\end{aligned} \\right\\} =\n",
        " \\left\\{  \\begin{aligned}&\\frac{1}{max(X)-min(X)} &0\\\\ &0 &\\frac{1}{max(Y)-min(Y)} \\end{aligned} \n",
        " \\right\\}\\left\\{  \\begin{aligned}a \\\\ b \\end{aligned} \\right\\} + \n",
        " \\left\\{  \\begin{aligned} \\frac{ -min(X)}{max(X) - min(X)} \\\\ \\frac{-min(Y)}{max(Y) - min(Y)} \\end{aligned} \\right\\}\n",
        "\\end{equation}$$\n",
        "\n",
        "You can verify this yourself if you wish, though it is not necessary. \n",
        "\n"
      ]
    },
    {
      "cell_type": "code",
      "metadata": {
        "id": "97ZaxoTZgTwR"
      },
      "source": [],
      "execution_count": null,
      "outputs": []
    }
  ]
}